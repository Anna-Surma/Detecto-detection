{
  "nbformat": 4,
  "nbformat_minor": 0,
  "metadata": {
    "colab": {
      "provenance": [],
      "collapsed_sections": [],
      "authorship_tag": "ABX9TyM4dtP7C6jQUVhs4GUXYhQC",
      "include_colab_link": true
    },
    "kernelspec": {
      "name": "python3",
      "display_name": "Python 3"
    },
    "language_info": {
      "name": "python"
    },
    "accelerator": "GPU",
    "widgets": {
      "application/vnd.jupyter.widget-state+json": {
        "85a5ff0bcc42421ebd964b737ef564fe": {
          "model_module": "@jupyter-widgets/controls",
          "model_name": "HBoxModel",
          "model_module_version": "1.5.0",
          "state": {
            "_dom_classes": [],
            "_model_module": "@jupyter-widgets/controls",
            "_model_module_version": "1.5.0",
            "_model_name": "HBoxModel",
            "_view_count": null,
            "_view_module": "@jupyter-widgets/controls",
            "_view_module_version": "1.5.0",
            "_view_name": "HBoxView",
            "box_style": "",
            "children": [
              "IPY_MODEL_c86d9b54b4884cb09bce81d36e44a4f6",
              "IPY_MODEL_ff3b8392ff3342b3ad0377202ece4f35",
              "IPY_MODEL_051b6a10bc64475b953515bb0237a5f9"
            ],
            "layout": "IPY_MODEL_84336980619c455f826c9a3427f4b056"
          }
        },
        "c86d9b54b4884cb09bce81d36e44a4f6": {
          "model_module": "@jupyter-widgets/controls",
          "model_name": "HTMLModel",
          "model_module_version": "1.5.0",
          "state": {
            "_dom_classes": [],
            "_model_module": "@jupyter-widgets/controls",
            "_model_module_version": "1.5.0",
            "_model_name": "HTMLModel",
            "_view_count": null,
            "_view_module": "@jupyter-widgets/controls",
            "_view_module_version": "1.5.0",
            "_view_name": "HTMLView",
            "description": "",
            "description_tooltip": null,
            "layout": "IPY_MODEL_b7f1f2b53d5f4592bfc51e5cf13c4cf0",
            "placeholder": "​",
            "style": "IPY_MODEL_25c6cb9a11414c069d7e0786b53d3952",
            "value": "100%"
          }
        },
        "ff3b8392ff3342b3ad0377202ece4f35": {
          "model_module": "@jupyter-widgets/controls",
          "model_name": "FloatProgressModel",
          "model_module_version": "1.5.0",
          "state": {
            "_dom_classes": [],
            "_model_module": "@jupyter-widgets/controls",
            "_model_module_version": "1.5.0",
            "_model_name": "FloatProgressModel",
            "_view_count": null,
            "_view_module": "@jupyter-widgets/controls",
            "_view_module_version": "1.5.0",
            "_view_name": "ProgressView",
            "bar_style": "success",
            "description": "",
            "description_tooltip": null,
            "layout": "IPY_MODEL_cf15be613a1e4fef82ea14914c090276",
            "max": 167502836,
            "min": 0,
            "orientation": "horizontal",
            "style": "IPY_MODEL_47bda5f94a9b4085956d06ab6068a503",
            "value": 167502836
          }
        },
        "051b6a10bc64475b953515bb0237a5f9": {
          "model_module": "@jupyter-widgets/controls",
          "model_name": "HTMLModel",
          "model_module_version": "1.5.0",
          "state": {
            "_dom_classes": [],
            "_model_module": "@jupyter-widgets/controls",
            "_model_module_version": "1.5.0",
            "_model_name": "HTMLModel",
            "_view_count": null,
            "_view_module": "@jupyter-widgets/controls",
            "_view_module_version": "1.5.0",
            "_view_name": "HTMLView",
            "description": "",
            "description_tooltip": null,
            "layout": "IPY_MODEL_80d9d5959f43413596d6cf9b00c0b3f1",
            "placeholder": "​",
            "style": "IPY_MODEL_ee2db47c9f454a84bbe0fab9f5599777",
            "value": " 160M/160M [00:00&lt;00:00, 228MB/s]"
          }
        },
        "84336980619c455f826c9a3427f4b056": {
          "model_module": "@jupyter-widgets/base",
          "model_name": "LayoutModel",
          "model_module_version": "1.2.0",
          "state": {
            "_model_module": "@jupyter-widgets/base",
            "_model_module_version": "1.2.0",
            "_model_name": "LayoutModel",
            "_view_count": null,
            "_view_module": "@jupyter-widgets/base",
            "_view_module_version": "1.2.0",
            "_view_name": "LayoutView",
            "align_content": null,
            "align_items": null,
            "align_self": null,
            "border": null,
            "bottom": null,
            "display": null,
            "flex": null,
            "flex_flow": null,
            "grid_area": null,
            "grid_auto_columns": null,
            "grid_auto_flow": null,
            "grid_auto_rows": null,
            "grid_column": null,
            "grid_gap": null,
            "grid_row": null,
            "grid_template_areas": null,
            "grid_template_columns": null,
            "grid_template_rows": null,
            "height": null,
            "justify_content": null,
            "justify_items": null,
            "left": null,
            "margin": null,
            "max_height": null,
            "max_width": null,
            "min_height": null,
            "min_width": null,
            "object_fit": null,
            "object_position": null,
            "order": null,
            "overflow": null,
            "overflow_x": null,
            "overflow_y": null,
            "padding": null,
            "right": null,
            "top": null,
            "visibility": null,
            "width": null
          }
        },
        "b7f1f2b53d5f4592bfc51e5cf13c4cf0": {
          "model_module": "@jupyter-widgets/base",
          "model_name": "LayoutModel",
          "model_module_version": "1.2.0",
          "state": {
            "_model_module": "@jupyter-widgets/base",
            "_model_module_version": "1.2.0",
            "_model_name": "LayoutModel",
            "_view_count": null,
            "_view_module": "@jupyter-widgets/base",
            "_view_module_version": "1.2.0",
            "_view_name": "LayoutView",
            "align_content": null,
            "align_items": null,
            "align_self": null,
            "border": null,
            "bottom": null,
            "display": null,
            "flex": null,
            "flex_flow": null,
            "grid_area": null,
            "grid_auto_columns": null,
            "grid_auto_flow": null,
            "grid_auto_rows": null,
            "grid_column": null,
            "grid_gap": null,
            "grid_row": null,
            "grid_template_areas": null,
            "grid_template_columns": null,
            "grid_template_rows": null,
            "height": null,
            "justify_content": null,
            "justify_items": null,
            "left": null,
            "margin": null,
            "max_height": null,
            "max_width": null,
            "min_height": null,
            "min_width": null,
            "object_fit": null,
            "object_position": null,
            "order": null,
            "overflow": null,
            "overflow_x": null,
            "overflow_y": null,
            "padding": null,
            "right": null,
            "top": null,
            "visibility": null,
            "width": null
          }
        },
        "25c6cb9a11414c069d7e0786b53d3952": {
          "model_module": "@jupyter-widgets/controls",
          "model_name": "DescriptionStyleModel",
          "model_module_version": "1.5.0",
          "state": {
            "_model_module": "@jupyter-widgets/controls",
            "_model_module_version": "1.5.0",
            "_model_name": "DescriptionStyleModel",
            "_view_count": null,
            "_view_module": "@jupyter-widgets/base",
            "_view_module_version": "1.2.0",
            "_view_name": "StyleView",
            "description_width": ""
          }
        },
        "cf15be613a1e4fef82ea14914c090276": {
          "model_module": "@jupyter-widgets/base",
          "model_name": "LayoutModel",
          "model_module_version": "1.2.0",
          "state": {
            "_model_module": "@jupyter-widgets/base",
            "_model_module_version": "1.2.0",
            "_model_name": "LayoutModel",
            "_view_count": null,
            "_view_module": "@jupyter-widgets/base",
            "_view_module_version": "1.2.0",
            "_view_name": "LayoutView",
            "align_content": null,
            "align_items": null,
            "align_self": null,
            "border": null,
            "bottom": null,
            "display": null,
            "flex": null,
            "flex_flow": null,
            "grid_area": null,
            "grid_auto_columns": null,
            "grid_auto_flow": null,
            "grid_auto_rows": null,
            "grid_column": null,
            "grid_gap": null,
            "grid_row": null,
            "grid_template_areas": null,
            "grid_template_columns": null,
            "grid_template_rows": null,
            "height": null,
            "justify_content": null,
            "justify_items": null,
            "left": null,
            "margin": null,
            "max_height": null,
            "max_width": null,
            "min_height": null,
            "min_width": null,
            "object_fit": null,
            "object_position": null,
            "order": null,
            "overflow": null,
            "overflow_x": null,
            "overflow_y": null,
            "padding": null,
            "right": null,
            "top": null,
            "visibility": null,
            "width": null
          }
        },
        "47bda5f94a9b4085956d06ab6068a503": {
          "model_module": "@jupyter-widgets/controls",
          "model_name": "ProgressStyleModel",
          "model_module_version": "1.5.0",
          "state": {
            "_model_module": "@jupyter-widgets/controls",
            "_model_module_version": "1.5.0",
            "_model_name": "ProgressStyleModel",
            "_view_count": null,
            "_view_module": "@jupyter-widgets/base",
            "_view_module_version": "1.2.0",
            "_view_name": "StyleView",
            "bar_color": null,
            "description_width": ""
          }
        },
        "80d9d5959f43413596d6cf9b00c0b3f1": {
          "model_module": "@jupyter-widgets/base",
          "model_name": "LayoutModel",
          "model_module_version": "1.2.0",
          "state": {
            "_model_module": "@jupyter-widgets/base",
            "_model_module_version": "1.2.0",
            "_model_name": "LayoutModel",
            "_view_count": null,
            "_view_module": "@jupyter-widgets/base",
            "_view_module_version": "1.2.0",
            "_view_name": "LayoutView",
            "align_content": null,
            "align_items": null,
            "align_self": null,
            "border": null,
            "bottom": null,
            "display": null,
            "flex": null,
            "flex_flow": null,
            "grid_area": null,
            "grid_auto_columns": null,
            "grid_auto_flow": null,
            "grid_auto_rows": null,
            "grid_column": null,
            "grid_gap": null,
            "grid_row": null,
            "grid_template_areas": null,
            "grid_template_columns": null,
            "grid_template_rows": null,
            "height": null,
            "justify_content": null,
            "justify_items": null,
            "left": null,
            "margin": null,
            "max_height": null,
            "max_width": null,
            "min_height": null,
            "min_width": null,
            "object_fit": null,
            "object_position": null,
            "order": null,
            "overflow": null,
            "overflow_x": null,
            "overflow_y": null,
            "padding": null,
            "right": null,
            "top": null,
            "visibility": null,
            "width": null
          }
        },
        "ee2db47c9f454a84bbe0fab9f5599777": {
          "model_module": "@jupyter-widgets/controls",
          "model_name": "DescriptionStyleModel",
          "model_module_version": "1.5.0",
          "state": {
            "_model_module": "@jupyter-widgets/controls",
            "_model_module_version": "1.5.0",
            "_model_name": "DescriptionStyleModel",
            "_view_count": null,
            "_view_module": "@jupyter-widgets/base",
            "_view_module_version": "1.2.0",
            "_view_name": "StyleView",
            "description_width": ""
          }
        }
      }
    }
  },
  "cells": [
    {
      "cell_type": "markdown",
      "metadata": {
        "id": "view-in-github",
        "colab_type": "text"
      },
      "source": [
        "<a href=\"https://colab.research.google.com/github/Anna-Surma/Detecto-detection/blob/main/detecto_detection.ipynb\" target=\"_parent\"><img src=\"https://colab.research.google.com/assets/colab-badge.svg\" alt=\"Open In Colab\"/></a>"
      ]
    },
    {
      "cell_type": "code",
      "execution_count": 1,
      "metadata": {
        "colab": {
          "base_uri": "https://localhost:8080/"
        },
        "id": "EHuz4suREaLY",
        "outputId": "488852bd-a5ce-4b2e-9b21-ffd9cea22b3a"
      },
      "outputs": [
        {
          "output_type": "stream",
          "name": "stdout",
          "text": [
            "Looking in indexes: https://pypi.org/simple, https://us-python.pkg.dev/colab-wheels/public/simple/\n",
            "Collecting detecto\n",
            "  Downloading detecto-1.2.2-py3-none-any.whl (25 kB)\n",
            "Requirement already satisfied: opencv-python in /usr/local/lib/python3.7/dist-packages (from detecto) (4.6.0.66)\n",
            "Requirement already satisfied: matplotlib in /usr/local/lib/python3.7/dist-packages (from detecto) (3.2.2)\n",
            "Requirement already satisfied: torchvision in /usr/local/lib/python3.7/dist-packages (from detecto) (0.13.1+cu113)\n",
            "Requirement already satisfied: pandas in /usr/local/lib/python3.7/dist-packages (from detecto) (1.3.5)\n",
            "Requirement already satisfied: tqdm in /usr/local/lib/python3.7/dist-packages (from detecto) (4.64.1)\n",
            "Requirement already satisfied: torch in /usr/local/lib/python3.7/dist-packages (from detecto) (1.12.1+cu113)\n",
            "Requirement already satisfied: cycler>=0.10 in /usr/local/lib/python3.7/dist-packages (from matplotlib->detecto) (0.11.0)\n",
            "Requirement already satisfied: python-dateutil>=2.1 in /usr/local/lib/python3.7/dist-packages (from matplotlib->detecto) (2.8.2)\n",
            "Requirement already satisfied: kiwisolver>=1.0.1 in /usr/local/lib/python3.7/dist-packages (from matplotlib->detecto) (1.4.4)\n",
            "Requirement already satisfied: pyparsing!=2.0.4,!=2.1.2,!=2.1.6,>=2.0.1 in /usr/local/lib/python3.7/dist-packages (from matplotlib->detecto) (3.0.9)\n",
            "Requirement already satisfied: numpy>=1.11 in /usr/local/lib/python3.7/dist-packages (from matplotlib->detecto) (1.21.6)\n",
            "Requirement already satisfied: typing-extensions in /usr/local/lib/python3.7/dist-packages (from kiwisolver>=1.0.1->matplotlib->detecto) (4.1.1)\n",
            "Requirement already satisfied: six>=1.5 in /usr/local/lib/python3.7/dist-packages (from python-dateutil>=2.1->matplotlib->detecto) (1.15.0)\n",
            "Requirement already satisfied: pytz>=2017.3 in /usr/local/lib/python3.7/dist-packages (from pandas->detecto) (2022.4)\n",
            "Requirement already satisfied: requests in /usr/local/lib/python3.7/dist-packages (from torchvision->detecto) (2.23.0)\n",
            "Requirement already satisfied: pillow!=8.3.*,>=5.3.0 in /usr/local/lib/python3.7/dist-packages (from torchvision->detecto) (7.1.2)\n",
            "Requirement already satisfied: certifi>=2017.4.17 in /usr/local/lib/python3.7/dist-packages (from requests->torchvision->detecto) (2022.9.24)\n",
            "Requirement already satisfied: urllib3!=1.25.0,!=1.25.1,<1.26,>=1.21.1 in /usr/local/lib/python3.7/dist-packages (from requests->torchvision->detecto) (1.24.3)\n",
            "Requirement already satisfied: chardet<4,>=3.0.2 in /usr/local/lib/python3.7/dist-packages (from requests->torchvision->detecto) (3.0.4)\n",
            "Requirement already satisfied: idna<3,>=2.5 in /usr/local/lib/python3.7/dist-packages (from requests->torchvision->detecto) (2.10)\n",
            "Installing collected packages: detecto\n",
            "Successfully installed detecto-1.2.2\n"
          ]
        }
      ],
      "source": [
        "!pip install detecto"
      ]
    },
    {
      "cell_type": "code",
      "source": [
        "import os\n",
        "from detecto.core import Model, Dataset\n",
        "from google.colab import drive\n",
        "\n",
        "drive.mount('/content/drive')\n",
        "os.chdir('/content/drive/MyDrive/zadanie')\n"
      ],
      "metadata": {
        "colab": {
          "base_uri": "https://localhost:8080/"
        },
        "id": "2u2nmWyNE08s",
        "outputId": "fd203311-3df7-4ccb-e991-6548b0b47e79"
      },
      "execution_count": 4,
      "outputs": [
        {
          "output_type": "stream",
          "name": "stdout",
          "text": [
            "Drive already mounted at /content/drive; to attempt to forcibly remount, call drive.mount(\"/content/drive\", force_remount=True).\n"
          ]
        }
      ]
    },
    {
      "cell_type": "code",
      "source": [
        "!ls"
      ],
      "metadata": {
        "colab": {
          "base_uri": "https://localhost:8080/"
        },
        "id": "0tZLxUviMl86",
        "outputId": "e701f14e-f728-4a7f-fea1-a60fbc79d4ba"
      },
      "execution_count": 5,
      "outputs": [
        {
          "output_type": "stream",
          "name": "stdout",
          "text": [
            "test  test.csv\ttrain  train.csv\n"
          ]
        }
      ]
    },
    {
      "cell_type": "code",
      "source": [
        "import detecto\n",
        "from detecto import utils\n",
        "detecto.utils.xml_to_csv('train/annotations', 'train.csv')\n",
        "detecto.utils.xml_to_csv('test/annotations', 'test.csv')\n"
      ],
      "metadata": {
        "colab": {
          "base_uri": "https://localhost:8080/",
          "height": 424
        },
        "id": "mzXiY2jUNTh4",
        "outputId": "308e8b19-e4d0-45d9-b0c0-56ce182b9b88"
      },
      "execution_count": 6,
      "outputs": [
        {
          "output_type": "execute_result",
          "data": {
            "text/plain": [
              "        filename  width  height       class  xmin  ymin  xmax  ymax  image_id\n",
              "0    road796.png    300     400  speedlimit   133   170   154   191         0\n",
              "1    road801.png    300     400  speedlimit   150   131   210   191         1\n",
              "2    road741.png    300     400  speedlimit    98   202   176   283         2\n",
              "3    road741.png    300     400  speedlimit    99    77   179   156         2\n",
              "4    road842.png    300     400  speedlimit    74   153   125   203         3\n",
              "..           ...    ...     ...         ...   ...   ...   ...   ...       ...\n",
              "351  road822.png    300     400        stop   106    77   168   140       213\n",
              "352  road822.png    300     400   crosswalk   183   317   201   340       213\n",
              "353  road695.png    300     400  speedlimit   134   170   156   192       214\n",
              "354  road695.png    300     400  speedlimit   135   205   156   225       214\n",
              "355  road778.png    300     400  speedlimit   104   133   187   215       215\n",
              "\n",
              "[356 rows x 9 columns]"
            ],
            "text/html": [
              "\n",
              "  <div id=\"df-7cb7553e-d543-49a0-8b39-fe657e9a862b\">\n",
              "    <div class=\"colab-df-container\">\n",
              "      <div>\n",
              "<style scoped>\n",
              "    .dataframe tbody tr th:only-of-type {\n",
              "        vertical-align: middle;\n",
              "    }\n",
              "\n",
              "    .dataframe tbody tr th {\n",
              "        vertical-align: top;\n",
              "    }\n",
              "\n",
              "    .dataframe thead th {\n",
              "        text-align: right;\n",
              "    }\n",
              "</style>\n",
              "<table border=\"1\" class=\"dataframe\">\n",
              "  <thead>\n",
              "    <tr style=\"text-align: right;\">\n",
              "      <th></th>\n",
              "      <th>filename</th>\n",
              "      <th>width</th>\n",
              "      <th>height</th>\n",
              "      <th>class</th>\n",
              "      <th>xmin</th>\n",
              "      <th>ymin</th>\n",
              "      <th>xmax</th>\n",
              "      <th>ymax</th>\n",
              "      <th>image_id</th>\n",
              "    </tr>\n",
              "  </thead>\n",
              "  <tbody>\n",
              "    <tr>\n",
              "      <th>0</th>\n",
              "      <td>road796.png</td>\n",
              "      <td>300</td>\n",
              "      <td>400</td>\n",
              "      <td>speedlimit</td>\n",
              "      <td>133</td>\n",
              "      <td>170</td>\n",
              "      <td>154</td>\n",
              "      <td>191</td>\n",
              "      <td>0</td>\n",
              "    </tr>\n",
              "    <tr>\n",
              "      <th>1</th>\n",
              "      <td>road801.png</td>\n",
              "      <td>300</td>\n",
              "      <td>400</td>\n",
              "      <td>speedlimit</td>\n",
              "      <td>150</td>\n",
              "      <td>131</td>\n",
              "      <td>210</td>\n",
              "      <td>191</td>\n",
              "      <td>1</td>\n",
              "    </tr>\n",
              "    <tr>\n",
              "      <th>2</th>\n",
              "      <td>road741.png</td>\n",
              "      <td>300</td>\n",
              "      <td>400</td>\n",
              "      <td>speedlimit</td>\n",
              "      <td>98</td>\n",
              "      <td>202</td>\n",
              "      <td>176</td>\n",
              "      <td>283</td>\n",
              "      <td>2</td>\n",
              "    </tr>\n",
              "    <tr>\n",
              "      <th>3</th>\n",
              "      <td>road741.png</td>\n",
              "      <td>300</td>\n",
              "      <td>400</td>\n",
              "      <td>speedlimit</td>\n",
              "      <td>99</td>\n",
              "      <td>77</td>\n",
              "      <td>179</td>\n",
              "      <td>156</td>\n",
              "      <td>2</td>\n",
              "    </tr>\n",
              "    <tr>\n",
              "      <th>4</th>\n",
              "      <td>road842.png</td>\n",
              "      <td>300</td>\n",
              "      <td>400</td>\n",
              "      <td>speedlimit</td>\n",
              "      <td>74</td>\n",
              "      <td>153</td>\n",
              "      <td>125</td>\n",
              "      <td>203</td>\n",
              "      <td>3</td>\n",
              "    </tr>\n",
              "    <tr>\n",
              "      <th>...</th>\n",
              "      <td>...</td>\n",
              "      <td>...</td>\n",
              "      <td>...</td>\n",
              "      <td>...</td>\n",
              "      <td>...</td>\n",
              "      <td>...</td>\n",
              "      <td>...</td>\n",
              "      <td>...</td>\n",
              "      <td>...</td>\n",
              "    </tr>\n",
              "    <tr>\n",
              "      <th>351</th>\n",
              "      <td>road822.png</td>\n",
              "      <td>300</td>\n",
              "      <td>400</td>\n",
              "      <td>stop</td>\n",
              "      <td>106</td>\n",
              "      <td>77</td>\n",
              "      <td>168</td>\n",
              "      <td>140</td>\n",
              "      <td>213</td>\n",
              "    </tr>\n",
              "    <tr>\n",
              "      <th>352</th>\n",
              "      <td>road822.png</td>\n",
              "      <td>300</td>\n",
              "      <td>400</td>\n",
              "      <td>crosswalk</td>\n",
              "      <td>183</td>\n",
              "      <td>317</td>\n",
              "      <td>201</td>\n",
              "      <td>340</td>\n",
              "      <td>213</td>\n",
              "    </tr>\n",
              "    <tr>\n",
              "      <th>353</th>\n",
              "      <td>road695.png</td>\n",
              "      <td>300</td>\n",
              "      <td>400</td>\n",
              "      <td>speedlimit</td>\n",
              "      <td>134</td>\n",
              "      <td>170</td>\n",
              "      <td>156</td>\n",
              "      <td>192</td>\n",
              "      <td>214</td>\n",
              "    </tr>\n",
              "    <tr>\n",
              "      <th>354</th>\n",
              "      <td>road695.png</td>\n",
              "      <td>300</td>\n",
              "      <td>400</td>\n",
              "      <td>speedlimit</td>\n",
              "      <td>135</td>\n",
              "      <td>205</td>\n",
              "      <td>156</td>\n",
              "      <td>225</td>\n",
              "      <td>214</td>\n",
              "    </tr>\n",
              "    <tr>\n",
              "      <th>355</th>\n",
              "      <td>road778.png</td>\n",
              "      <td>300</td>\n",
              "      <td>400</td>\n",
              "      <td>speedlimit</td>\n",
              "      <td>104</td>\n",
              "      <td>133</td>\n",
              "      <td>187</td>\n",
              "      <td>215</td>\n",
              "      <td>215</td>\n",
              "    </tr>\n",
              "  </tbody>\n",
              "</table>\n",
              "<p>356 rows × 9 columns</p>\n",
              "</div>\n",
              "      <button class=\"colab-df-convert\" onclick=\"convertToInteractive('df-7cb7553e-d543-49a0-8b39-fe657e9a862b')\"\n",
              "              title=\"Convert this dataframe to an interactive table.\"\n",
              "              style=\"display:none;\">\n",
              "        \n",
              "  <svg xmlns=\"http://www.w3.org/2000/svg\" height=\"24px\"viewBox=\"0 0 24 24\"\n",
              "       width=\"24px\">\n",
              "    <path d=\"M0 0h24v24H0V0z\" fill=\"none\"/>\n",
              "    <path d=\"M18.56 5.44l.94 2.06.94-2.06 2.06-.94-2.06-.94-.94-2.06-.94 2.06-2.06.94zm-11 1L8.5 8.5l.94-2.06 2.06-.94-2.06-.94L8.5 2.5l-.94 2.06-2.06.94zm10 10l.94 2.06.94-2.06 2.06-.94-2.06-.94-.94-2.06-.94 2.06-2.06.94z\"/><path d=\"M17.41 7.96l-1.37-1.37c-.4-.4-.92-.59-1.43-.59-.52 0-1.04.2-1.43.59L10.3 9.45l-7.72 7.72c-.78.78-.78 2.05 0 2.83L4 21.41c.39.39.9.59 1.41.59.51 0 1.02-.2 1.41-.59l7.78-7.78 2.81-2.81c.8-.78.8-2.07 0-2.86zM5.41 20L4 18.59l7.72-7.72 1.47 1.35L5.41 20z\"/>\n",
              "  </svg>\n",
              "      </button>\n",
              "      \n",
              "  <style>\n",
              "    .colab-df-container {\n",
              "      display:flex;\n",
              "      flex-wrap:wrap;\n",
              "      gap: 12px;\n",
              "    }\n",
              "\n",
              "    .colab-df-convert {\n",
              "      background-color: #E8F0FE;\n",
              "      border: none;\n",
              "      border-radius: 50%;\n",
              "      cursor: pointer;\n",
              "      display: none;\n",
              "      fill: #1967D2;\n",
              "      height: 32px;\n",
              "      padding: 0 0 0 0;\n",
              "      width: 32px;\n",
              "    }\n",
              "\n",
              "    .colab-df-convert:hover {\n",
              "      background-color: #E2EBFA;\n",
              "      box-shadow: 0px 1px 2px rgba(60, 64, 67, 0.3), 0px 1px 3px 1px rgba(60, 64, 67, 0.15);\n",
              "      fill: #174EA6;\n",
              "    }\n",
              "\n",
              "    [theme=dark] .colab-df-convert {\n",
              "      background-color: #3B4455;\n",
              "      fill: #D2E3FC;\n",
              "    }\n",
              "\n",
              "    [theme=dark] .colab-df-convert:hover {\n",
              "      background-color: #434B5C;\n",
              "      box-shadow: 0px 1px 3px 1px rgba(0, 0, 0, 0.15);\n",
              "      filter: drop-shadow(0px 1px 2px rgba(0, 0, 0, 0.3));\n",
              "      fill: #FFFFFF;\n",
              "    }\n",
              "  </style>\n",
              "\n",
              "      <script>\n",
              "        const buttonEl =\n",
              "          document.querySelector('#df-7cb7553e-d543-49a0-8b39-fe657e9a862b button.colab-df-convert');\n",
              "        buttonEl.style.display =\n",
              "          google.colab.kernel.accessAllowed ? 'block' : 'none';\n",
              "\n",
              "        async function convertToInteractive(key) {\n",
              "          const element = document.querySelector('#df-7cb7553e-d543-49a0-8b39-fe657e9a862b');\n",
              "          const dataTable =\n",
              "            await google.colab.kernel.invokeFunction('convertToInteractive',\n",
              "                                                     [key], {});\n",
              "          if (!dataTable) return;\n",
              "\n",
              "          const docLinkHtml = 'Like what you see? Visit the ' +\n",
              "            '<a target=\"_blank\" href=https://colab.research.google.com/notebooks/data_table.ipynb>data table notebook</a>'\n",
              "            + ' to learn more about interactive tables.';\n",
              "          element.innerHTML = '';\n",
              "          dataTable['output_type'] = 'display_data';\n",
              "          await google.colab.output.renderOutput(dataTable, element);\n",
              "          const docLink = document.createElement('div');\n",
              "          docLink.innerHTML = docLinkHtml;\n",
              "          element.appendChild(docLink);\n",
              "        }\n",
              "      </script>\n",
              "    </div>\n",
              "  </div>\n",
              "  "
            ]
          },
          "metadata": {},
          "execution_count": 6
        }
      ]
    },
    {
      "cell_type": "code",
      "source": [
        "from torchvision import transforms\n",
        "from detecto import core\n",
        "transform_img = transforms.Compose([\n",
        "    transforms.ToPILImage(),\n",
        "    transforms.Resize(800),\n",
        "    transforms.RandomHorizontalFlip(0.5),\n",
        "    transforms.ToTensor(),\n",
        "    utils.normalize_transform(),\n",
        "])"
      ],
      "metadata": {
        "id": "3PYhQWN5QecL"
      },
      "execution_count": 7,
      "outputs": []
    },
    {
      "cell_type": "code",
      "source": [
        "dataset = detecto.core.Dataset('train.csv', 'train/images/', transform=transform_img)"
      ],
      "metadata": {
        "id": "iNdM6euPQlM0"
      },
      "execution_count": 8,
      "outputs": []
    },
    {
      "cell_type": "code",
      "source": [
        "from detecto import visualize\n",
        "image, information = dataset[1] \n",
        "detecto.visualize.show_labeled_image(image, information['boxes'], information['labels'])"
      ],
      "metadata": {
        "colab": {
          "base_uri": "https://localhost:8080/",
          "height": 269
        },
        "id": "vNinMPTtRJGs",
        "outputId": "bfc8a1ea-4c20-4570-9d8c-bd282c7355fa"
      },
      "execution_count": 9,
      "outputs": [
        {
          "output_type": "display_data",
          "data": {
            "text/plain": [
              "<Figure size 432x288 with 1 Axes>"
            ],
            "image/png": "[encoded data removed]"
          },
          "metadata": {
            "needs_background": "light"
          }
        }
      ]
    },
    {
      "cell_type": "code",
      "source": [
        "dataloader = detecto.core.DataLoader(dataset)\n",
        "dataloader"
      ],
      "metadata": {
        "colab": {
          "base_uri": "https://localhost:8080/"
        },
        "id": "1NXi6_yoRq-k",
        "outputId": "f3a6826f-37af-4e46-c636-6377c2968798"
      },
      "execution_count": 10,
      "outputs": [
        {
          "output_type": "execute_result",
          "data": {
            "text/plain": [
              "<detecto.core.DataLoader at 0x7faf3004c450>"
            ]
          },
          "metadata": {},
          "execution_count": 10
        }
      ]
    },
    {
      "cell_type": "code",
      "source": [
        "validation_data = detecto.core.Dataset('train.csv', 'train/images/')"
      ],
      "metadata": {
        "id": "NjMXscJ1TF3f"
      },
      "execution_count": 11,
      "outputs": []
    },
    {
      "cell_type": "code",
      "source": [
        "classifier = core.Model(['speedlimit', 'crosswalk', 'stop', 'trafficlight'])"
      ],
      "metadata": {
        "colab": {
          "base_uri": "https://localhost:8080/",
          "height": 156,
          "referenced_widgets": [
            "85a5ff0bcc42421ebd964b737ef564fe",
            "c86d9b54b4884cb09bce81d36e44a4f6",
            "ff3b8392ff3342b3ad0377202ece4f35",
            "051b6a10bc64475b953515bb0237a5f9",
            "84336980619c455f826c9a3427f4b056",
            "b7f1f2b53d5f4592bfc51e5cf13c4cf0",
            "25c6cb9a11414c069d7e0786b53d3952",
            "cf15be613a1e4fef82ea14914c090276",
            "47bda5f94a9b4085956d06ab6068a503",
            "80d9d5959f43413596d6cf9b00c0b3f1",
            "ee2db47c9f454a84bbe0fab9f5599777"
          ]
        },
        "id": "rzRK4mfqTVt7",
        "outputId": "c67a839c-8569-450f-9330-f1aa42167cbf"
      },
      "execution_count": 12,
      "outputs": [
        {
          "output_type": "stream",
          "name": "stderr",
          "text": [
            "/usr/local/lib/python3.7/dist-packages/torchvision/models/_utils.py:209: UserWarning: The parameter 'pretrained' is deprecated since 0.13 and will be removed in 0.15, please use 'weights' instead.\n",
            "  f\"The parameter '{pretrained_param}' is deprecated since 0.13 and will be removed in 0.15, \"\n",
            "/usr/local/lib/python3.7/dist-packages/torchvision/models/_utils.py:223: UserWarning: Arguments other than a weight enum or `None` for 'weights' are deprecated since 0.13 and will be removed in 0.15. The current behavior is equivalent to passing `weights=FasterRCNN_ResNet50_FPN_Weights.COCO_V1`. You can also use `weights=FasterRCNN_ResNet50_FPN_Weights.DEFAULT` to get the most up-to-date weights.\n",
            "  warnings.warn(msg)\n",
            "Downloading: \"https://download.pytorch.org/models/fasterrcnn_resnet50_fpn_coco-258fb6c6.pth\" to /root/.cache/torch/hub/checkpoints/fasterrcnn_resnet50_fpn_coco-258fb6c6.pth\n"
          ]
        },
        {
          "output_type": "display_data",
          "data": {
            "text/plain": [
              "  0%|          | 0.00/160M [00:00<?, ?B/s]"
            ],
            "application/vnd.jupyter.widget-view+json": {
              "version_major": 2,
              "version_minor": 0,
              "model_id": "85a5ff0bcc42421ebd964b737ef564fe"
            }
          },
          "metadata": {}
        }
      ]
    },
    {
      "cell_type": "code",
      "source": [
        "history = classifier.fit(dataloader, validation_data, epochs = 10, verbose = True)"
      ],
      "metadata": {
        "colab": {
          "base_uri": "https://localhost:8080/"
        },
        "id": "_WbprThwT4Sk",
        "outputId": "f817d3e8-186c-4d0f-88c2-b6b7525406cd"
      },
      "execution_count": 13,
      "outputs": [
        {
          "output_type": "stream",
          "name": "stdout",
          "text": [
            "Epoch 1 of 10\n",
            "Begin iterating over training dataset\n"
          ]
        },
        {
          "output_type": "stream",
          "name": "stderr",
          "text": [
            "100%|██████████| 599/599 [10:58<00:00,  1.10s/it]\n"
          ]
        },
        {
          "output_type": "stream",
          "name": "stdout",
          "text": [
            "Begin iterating over validation dataset\n"
          ]
        },
        {
          "output_type": "stream",
          "name": "stderr",
          "text": [
            "100%|██████████| 599/599 [01:12<00:00,  8.30it/s]\n"
          ]
        },
        {
          "output_type": "stream",
          "name": "stdout",
          "text": [
            "Loss: 0.11429334761192385\n",
            "Epoch 2 of 10\n",
            "Begin iterating over training dataset\n"
          ]
        },
        {
          "output_type": "stream",
          "name": "stderr",
          "text": [
            "100%|██████████| 599/599 [02:40<00:00,  3.74it/s]\n"
          ]
        },
        {
          "output_type": "stream",
          "name": "stdout",
          "text": [
            "Begin iterating over validation dataset\n"
          ]
        },
        {
          "output_type": "stream",
          "name": "stderr",
          "text": [
            "100%|██████████| 599/599 [01:14<00:00,  8.07it/s]\n"
          ]
        },
        {
          "output_type": "stream",
          "name": "stdout",
          "text": [
            "Loss: 0.08969826627839886\n",
            "Epoch 3 of 10\n",
            "Begin iterating over training dataset\n"
          ]
        },
        {
          "output_type": "stream",
          "name": "stderr",
          "text": [
            "100%|██████████| 599/599 [02:42<00:00,  3.69it/s]\n"
          ]
        },
        {
          "output_type": "stream",
          "name": "stdout",
          "text": [
            "Begin iterating over validation dataset\n"
          ]
        },
        {
          "output_type": "stream",
          "name": "stderr",
          "text": [
            "100%|██████████| 599/599 [01:14<00:00,  8.03it/s]\n"
          ]
        },
        {
          "output_type": "stream",
          "name": "stdout",
          "text": [
            "Loss: 0.07261823432890073\n",
            "Epoch 4 of 10\n",
            "Begin iterating over training dataset\n"
          ]
        },
        {
          "output_type": "stream",
          "name": "stderr",
          "text": [
            "100%|██████████| 599/599 [02:43<00:00,  3.67it/s]\n"
          ]
        },
        {
          "output_type": "stream",
          "name": "stdout",
          "text": [
            "Begin iterating over validation dataset\n"
          ]
        },
        {
          "output_type": "stream",
          "name": "stderr",
          "text": [
            "100%|██████████| 599/599 [01:14<00:00,  8.04it/s]\n"
          ]
        },
        {
          "output_type": "stream",
          "name": "stdout",
          "text": [
            "Loss: 0.04933951645218868\n",
            "Epoch 5 of 10\n",
            "Begin iterating over training dataset\n"
          ]
        },
        {
          "output_type": "stream",
          "name": "stderr",
          "text": [
            "100%|██████████| 599/599 [02:43<00:00,  3.67it/s]\n"
          ]
        },
        {
          "output_type": "stream",
          "name": "stdout",
          "text": [
            "Begin iterating over validation dataset\n"
          ]
        },
        {
          "output_type": "stream",
          "name": "stderr",
          "text": [
            "100%|██████████| 599/599 [01:14<00:00,  8.00it/s]\n"
          ]
        },
        {
          "output_type": "stream",
          "name": "stdout",
          "text": [
            "Loss: 0.043755679780023427\n",
            "Epoch 6 of 10\n",
            "Begin iterating over training dataset\n"
          ]
        },
        {
          "output_type": "stream",
          "name": "stderr",
          "text": [
            "100%|██████████| 599/599 [02:43<00:00,  3.66it/s]\n"
          ]
        },
        {
          "output_type": "stream",
          "name": "stdout",
          "text": [
            "Begin iterating over validation dataset\n"
          ]
        },
        {
          "output_type": "stream",
          "name": "stderr",
          "text": [
            "100%|██████████| 599/599 [01:14<00:00,  8.01it/s]\n"
          ]
        },
        {
          "output_type": "stream",
          "name": "stdout",
          "text": [
            "Loss: 0.043152893926848804\n",
            "Epoch 7 of 10\n",
            "Begin iterating over training dataset\n"
          ]
        },
        {
          "output_type": "stream",
          "name": "stderr",
          "text": [
            "100%|██████████| 599/599 [02:43<00:00,  3.67it/s]\n"
          ]
        },
        {
          "output_type": "stream",
          "name": "stdout",
          "text": [
            "Begin iterating over validation dataset\n"
          ]
        },
        {
          "output_type": "stream",
          "name": "stderr",
          "text": [
            "100%|██████████| 599/599 [01:14<00:00,  8.03it/s]\n"
          ]
        },
        {
          "output_type": "stream",
          "name": "stdout",
          "text": [
            "Loss: 0.04156037740555525\n",
            "Epoch 8 of 10\n",
            "Begin iterating over training dataset\n"
          ]
        },
        {
          "output_type": "stream",
          "name": "stderr",
          "text": [
            "100%|██████████| 599/599 [02:43<00:00,  3.67it/s]\n"
          ]
        },
        {
          "output_type": "stream",
          "name": "stdout",
          "text": [
            "Begin iterating over validation dataset\n"
          ]
        },
        {
          "output_type": "stream",
          "name": "stderr",
          "text": [
            "100%|██████████| 599/599 [01:14<00:00,  8.02it/s]\n"
          ]
        },
        {
          "output_type": "stream",
          "name": "stdout",
          "text": [
            "Loss: 0.04104173347821929\n",
            "Epoch 9 of 10\n",
            "Begin iterating over training dataset\n"
          ]
        },
        {
          "output_type": "stream",
          "name": "stderr",
          "text": [
            "100%|██████████| 599/599 [02:43<00:00,  3.66it/s]\n"
          ]
        },
        {
          "output_type": "stream",
          "name": "stdout",
          "text": [
            "Begin iterating over validation dataset\n"
          ]
        },
        {
          "output_type": "stream",
          "name": "stderr",
          "text": [
            "100%|██████████| 599/599 [01:14<00:00,  8.03it/s]\n"
          ]
        },
        {
          "output_type": "stream",
          "name": "stdout",
          "text": [
            "Loss: 0.04131231334127287\n",
            "Epoch 10 of 10\n",
            "Begin iterating over training dataset\n"
          ]
        },
        {
          "output_type": "stream",
          "name": "stderr",
          "text": [
            "100%|██████████| 599/599 [02:43<00:00,  3.66it/s]\n"
          ]
        },
        {
          "output_type": "stream",
          "name": "stdout",
          "text": [
            "Begin iterating over validation dataset\n"
          ]
        },
        {
          "output_type": "stream",
          "name": "stderr",
          "text": [
            "100%|██████████| 599/599 [01:14<00:00,  8.04it/s]"
          ]
        },
        {
          "output_type": "stream",
          "name": "stdout",
          "text": [
            "Loss: 0.040933001508939394\n"
          ]
        },
        {
          "output_type": "stream",
          "name": "stderr",
          "text": [
            "\n"
          ]
        }
      ]
    },
    {
      "cell_type": "code",
      "source": [
        "classifier.save('model_learn.pth')"
      ],
      "metadata": {
        "id": "hrCaxzlTfEUa"
      },
      "execution_count": 14,
      "outputs": []
    },
    {
      "cell_type": "code",
      "source": [
        "model = core.Model.load('model_learn.pth', ['speedlimit', 'crosswalk', 'stop', 'trafficlight'])"
      ],
      "metadata": {
        "id": "jRS8nYGkfbqS"
      },
      "execution_count": 15,
      "outputs": []
    },
    {
      "cell_type": "code",
      "source": [
        "from PIL import Image\n",
        "import numpy as np\n",
        "\n",
        "def detect():\n",
        "  file_path = 'test/images/'\n",
        "  for all_image in os.listdir(file_path):\n",
        "    image_path = os.path.join(file_path, all_image)\n",
        "    image = utils.read_image(image_path)\n",
        "    \n",
        "    image_dim = Image.open(image_path)\n",
        "    image_width, image_height = image_dim.size\n",
        "\n",
        "    lebels, boxes, scores = model.predict(image)\n",
        "    place = 0 \n",
        "    lebels_ost = []\n",
        "    boxes_ost = []\n",
        "    scores_ost = []\n",
        "    \n",
        "    for score in scores:\n",
        "      if score > 0.5:\n",
        "        if lebels[place] == \"speedlimit\":\n",
        "          if (((boxes[place][2] - boxes[place][0]) > (1/10)*image_width) & ((boxes[place][3] - boxes[place][1]) > (1/10)*image_height)):\n",
        "            lebels_ost.append(lebels[place])\n",
        "            boxes_ost.append(boxes[place])\n",
        "            scores_ost.append(score)\n",
        "            place = place+1 \n",
        "    if(len(boxes_ost) != 0 ):\n",
        "      print(all_image)\n",
        "      print(len(boxes_ost))\n",
        "      for i in range(0,len(boxes_ost)):\n",
        "        boxes_ok_size = np.around(boxes_ost[i].numpy())\n",
        "        boxes_ok_size = boxes_ok_size.astype(int)\n",
        "        print(boxes_ok_size)\n",
        "\n",
        "\n",
        "detect()"
      ],
      "metadata": {
        "colab": {
          "base_uri": "https://localhost:8080/"
        },
        "id": "Lk_CA4UBftba",
        "outputId": "c132b5af-da47-4d14-def2-51275365b23d"
      },
      "execution_count": 16,
      "outputs": [
        {
          "output_type": "stream",
          "name": "stdout",
          "text": [
            "road842.png\n",
            "1\n",
            "[ 73 153 124 203]\n",
            "road829.png\n",
            "1\n",
            "[ 93 141 167 211]\n",
            "road731.png\n",
            "2\n",
            "[ 69 226 115 271]\n",
            "[ 67 154 111 201]\n",
            "road693.png\n",
            "2\n",
            "[ 54 136 143 220]\n",
            "[ 53 270 140 357]\n",
            "road664.png\n",
            "2\n",
            "[ 86 199 157 274]\n",
            "[ 87 116 158 189]\n",
            "road867.png\n",
            "1\n",
            "[ 73 125 124 176]\n",
            "road816.png\n",
            "1\n",
            "[ 92 181 142 232]\n",
            "road827.png\n",
            "1\n",
            "[120 112 178 169]\n",
            "road712.png\n",
            "1\n",
            "[ 98 140 139 181]\n",
            "road694.png\n",
            "2\n",
            "[100 128 203 230]\n",
            "[ 99 291 203 392]\n",
            "road836.png\n",
            "1\n",
            "[145 124 205 185]\n",
            "road815.png\n",
            "1\n",
            "[123 151 165 193]\n",
            "road810.png\n",
            "1\n",
            "[129 175 169 216]\n",
            "road732.png\n",
            "2\n",
            "[103 188 165 250]\n",
            "[100  96 160 156]\n",
            "road801.png\n",
            "1\n",
            "[150 131 210 191]\n",
            "road726.png\n",
            "2\n",
            "[138 157 219 238]\n",
            "[142  66 224 145]\n",
            "road740.png\n",
            "2\n",
            "[113 210 171 270]\n",
            "[115 118 173 176]\n",
            "road784.png\n",
            "1\n",
            "[104 107 180 182]\n",
            "road745.png\n",
            "2\n",
            "[ 45 200  90 244]\n",
            "[ 50 132  93 177]\n",
            "road683.png\n",
            "1\n",
            "[ 86 204 140 259]\n",
            "road733.png\n",
            "2\n",
            "[118 200 193 275]\n",
            "[112  86 188 161]\n",
            "road690.png\n",
            "2\n",
            "[ 99 152 142 192]\n",
            "[ 99 217 141 257]\n",
            "road818.png\n",
            "1\n",
            "[132 162 236 267]\n",
            "road775.png\n",
            "1\n",
            "[110 130 149 171]\n",
            "road782.png\n",
            "1\n",
            "[ 93 109 142 157]\n",
            "road662.png\n",
            "1\n",
            "[ 78 152 125 199]\n",
            "road777.png\n",
            "1\n",
            "[ 50 141 113 204]\n",
            "road703.png\n",
            "2\n",
            "[214 127 249 175]\n",
            "[219 201 255 251]\n",
            "road739.png\n",
            "2\n",
            "[104 221 150 269]\n",
            "[106 148 151 195]\n",
            "road714.png\n",
            "2\n",
            "[ 65 272 125 333]\n",
            "[ 67 176 127 236]\n",
            "road685.png\n",
            "1\n",
            "[ 86 192 168 273]\n",
            "road779.png\n",
            "1\n",
            "[ 70 142 195 268]\n",
            "road793.png\n",
            "1\n",
            "[ 98 191 146 239]\n",
            "road754.png\n",
            "2\n",
            "[ 84 101 161 179]\n",
            "[182 100 256 175]\n",
            "road723.png\n",
            "1\n",
            "[116 185 161 229]\n",
            "road666.png\n",
            "2\n",
            "[113 219 221 336]\n",
            "[108  82 220 203]\n",
            "road832.png\n",
            "1\n",
            "[ 75  44 196 156]\n",
            "road706.png\n",
            "2\n",
            "[135 160 177 200]\n",
            "[136  93 178 135]\n",
            "road862.png\n",
            "1\n",
            "[213  30 287 101]\n",
            "road699.png\n",
            "2\n",
            "[131 230 175 276]\n",
            "[130 155 176 203]\n",
            "road759.png\n",
            "1\n",
            "[118 164 166 213]\n",
            "road682.png\n",
            "1\n",
            "[100 213 147 260]\n",
            "road684.png\n",
            "1\n",
            "[ 92 232 159 298]\n",
            "road778.png\n",
            "1\n",
            "[106 133 187 215]\n",
            "road870.png\n",
            "1\n",
            "[176  53 275 153]\n",
            "road660.png\n",
            "1\n",
            "[131 188 194 252]\n",
            "road767.png\n",
            "1\n",
            "[102 153 170 223]\n",
            "road800.png\n",
            "1\n",
            "[189 184 237 231]\n",
            "road843.png\n",
            "1\n",
            "[ 78 128 142 192]\n",
            "road665.png\n",
            "2\n",
            "[ 56 302 146 395]\n",
            "[ 55 194 148 286]\n",
            "road686.png\n",
            "1\n",
            "[ 60 270 166 375]\n",
            "road785.png\n",
            "1\n",
            "[ 72  64 169 158]\n",
            "road746.png\n",
            "2\n",
            "[ 85 236 140 291]\n",
            "[ 92 152 144 208]\n",
            "road670.png\n",
            "1\n",
            "[128 146 190 206]\n",
            "road747.png\n",
            "2\n",
            "[230 214 298 288]\n",
            "[235  99 300 174]\n",
            "road701.png\n",
            "2\n",
            "[235 116 300 191]\n",
            "[237 233 300 306]\n",
            "road753.png\n",
            "2\n",
            "[ 63 137 118 192]\n",
            "[134 135 187 190]\n",
            "road869.png\n",
            "1\n",
            "[ 84 125 168 207]\n",
            "road669.png\n",
            "1\n",
            "[113 170 154 211]\n",
            "road806.png\n",
            "1\n",
            "[104 100 186 178]\n",
            "road661.png\n",
            "1\n",
            "[115 216 192 296]\n",
            "road752.png\n",
            "2\n",
            "[ 60 131 102 174]\n",
            "[115 130 155 172]\n",
            "road708.png\n",
            "2\n",
            "[121 139 192 214]\n",
            "[121 256 194 330]\n",
            "road876.png\n",
            "1\n",
            "[108 112 178 180]\n",
            "road707.png\n",
            "2\n",
            "[105 178 161 235]\n",
            "[105  87 161 144]\n",
            "road841.png\n",
            "1\n",
            "[107 143 148 184]\n",
            "road811.png\n",
            "1\n",
            "[109 179 162 233]\n",
            "road788.png\n",
            "1\n",
            "[106 148 148 190]\n",
            "road856.png\n",
            "1\n",
            "[129  70 174 115]\n",
            "road789.png\n",
            "1\n",
            "[113 168 166 222]\n",
            "road776.png\n",
            "1\n",
            "[ 75 190 125 241]\n",
            "road725.png\n",
            "2\n",
            "[ 59 197 126 264]\n",
            "[ 63 124 129 188]\n",
            "road875.png\n",
            "1\n",
            "[106 142 158 195]\n",
            "road715.png\n",
            "2\n",
            "[ 81 132 165 211]\n",
            "[ 84   4 165  86]\n",
            "road837.png\n",
            "1\n",
            "[185  38 269 118]\n",
            "road812.png\n",
            "1\n",
            "[ 85 169 151 236]\n",
            "road783.png\n",
            "1\n",
            "[ 55 112 116 172]\n",
            "road835.png\n",
            "1\n",
            "[122 126 165 169]\n",
            "road760.png\n",
            "1\n",
            "[114 111 177 174]\n",
            "road700.png\n",
            "2\n",
            "[114 155 172 214]\n",
            "[115 248 171 305]\n",
            "road692.png\n",
            "2\n",
            "[ 98  99 168 167]\n",
            "[ 97 207 166 277]\n",
            "road741.png\n",
            "2\n",
            "[ 97 203 176 282]\n",
            "[ 98  78 176 156]\n",
            "road844.png\n",
            "1\n",
            "[110  87 190 163]\n",
            "road857.png\n",
            "1\n",
            "[113 120 175 181]\n",
            "road866.png\n",
            "1\n",
            "[ 56 150 101 195]\n",
            "road766.png\n",
            "1\n",
            "[134 187 173 228]\n",
            "road830.png\n",
            "1\n",
            "[ 81 103 165 183]\n",
            "road679.png\n",
            "1\n",
            "[135 178 176 223]\n",
            "road680.png\n",
            "1\n",
            "[156 122 203 176]\n",
            "road713.png\n",
            "2\n",
            "[100 212 149 261]\n",
            "[101 134 151 183]\n",
            "road795.png\n",
            "1\n",
            "[121 208 202 286]\n",
            "road831.png\n",
            "1\n",
            "[ 70 110 168 202]\n",
            "road805.png\n",
            "1\n",
            "[163 141 220 198]\n",
            "road868.png\n",
            "1\n",
            "[ 93 111 158 174]\n",
            "road659.png\n",
            "1\n",
            "[164 189 214 241]\n",
            "road828.png\n",
            "1\n",
            "[114 117 179 181]\n",
            "road663.png\n",
            "1\n",
            "[103 213 161 271]\n",
            "road691.png\n",
            "2\n",
            "[126 194 174 241]\n",
            "[126 117 175 166]\n",
            "road861.png\n",
            "1\n",
            "[124 100 173 148]\n",
            "road794.png\n",
            "1\n",
            "[102 213 164 274]\n",
            "road724.png\n",
            "1\n",
            "[ 88 162 143 215]\n",
            "road874.png\n",
            "1\n",
            "[ 94 129 137 172]\n",
            "road734.png\n",
            "2\n",
            "[133 143 231 240]\n",
            "[144 291 240 390]\n"
          ]
        }
      ]
    }
  ]
}